{
 "cells": [
  {
   "cell_type": "markdown",
   "id": "19ae6874-7585-4a0b-848c-965f639def41",
   "metadata": {},
   "source": [
    "# Parsing Data\n",
    "In this notebook, let's explore how to leverage generative AI to build and consume a knowledge graph in Neo4j.\n",
    "\n",
    "This notebook parses Form-13 data from SEC EDGAR. This is partially structured data, a mix of text and XML.  Instead of spending our time writing a bespoke parser to extract data from these files and load into Neo4j, we can prompt a Large Language Model (LLM) to do this for us automatically.  We will then also use the LLM to generate Cypher statements to load the extracted data into a Neo4j graph.\n",
    "\n",
    "## Setup\n",
    "First, let's install the libraries we're going to need for this lab and the following notebook dependent labs.  We'll also want to reboot the kernel once done.  To do that, go to the \"Kernel\" menu and click \"Restart Kernel and Clear All Outputs.\"  That will get rid of everything the install statements printed, leaving us with a cleaner notebook to work with."
   ]
  },
  {
   "cell_type": "code",
   "execution_count": null,
   "id": "4aad4e36-7048-4bbf-a71a-a5d1b24d0ade",
   "metadata": {
    "tags": []
   },
   "outputs": [],
   "source": [
    "%pip install --user graphdatascience\n",
    "%pip install --user \"pydantic==1.10.11\"\n",
    "%pip install --user \"langchain==0.1.20\"\n",
    "%pip install --user gradio\n",
    "%pip install --user IProgress\n",
    "%pip install --user tqdm\n",
    "%pip install --user langchain-community\n",
    "%pip install --user langchain-google-vertexai\n",
    "\n",
    "# Restart the kernel after installing libraries\n",
    "import IPython\n",
    "app = IPython.Application.instance()\n",
    "app.kernel.do_shutdown(True)"
   ]
  },
  {
   "cell_type": "markdown",
   "id": "3dd7c539-68b5-4126-990e-60c85b84fafa",
   "metadata": {},
   "source": [
    "Now restart the kernel. That will allow the Python evironment to import the new packages."
   ]
  },
  {
   "cell_type": "markdown",
   "id": "08a1a385-8d3a-4c69-9817-ed14ba8e6511",
   "metadata": {},
   "source": [
    "## Prompt Definition\n",
    "We will extract knowledge adhering to the same schema we used previously.  To teach the LLM about the schema, we will use a series of prompts.  Each prompt is focused on only one task, extracting a specific entity:\n",
    "\n",
    "1. Manager Information\n",
    "2. Filing Information"
   ]
  },
  {
   "cell_type": "markdown",
   "id": "481717bb-6db2-4465-8667-b0c07da381d5",
   "metadata": {},
   "source": [
    "## Functions for Using LLMs\n",
    "Let's create some helper function to talk to the LLM with our prompt and text input. \n",
    "\n",
    "The [Vertex AI documentation](https://cloud.google.com/vertex-ai/docs/generative-ai/learn/models) describes the available foundation models.  We will use the text-bison base model. In some cases, there may be a need to fine-tune LLM models for KG creation. [Vertex AI provides an elegant way to fine-tune](https://cloud.google.com/vertex-ai/docs/generative-ai/models/tune-models) where the updated weights/model stay within your tenant and the base model is frozen."
   ]
  },
  {
   "cell_type": "code",
   "execution_count": 274,
   "id": "ffeab081-6bc7-41a1-92a6-1f02b8adcf8f",
   "metadata": {
    "tags": []
   },
   "outputs": [],
   "source": [
    "station_info_tpl = \"\"\"The input file below is a CSV file. The first line represents the column names. Extract the following entities from every row and put them into JSON format. Do not miss any of this information.\n",
    "* \"station_name\" - This name appears in the \"Station_Name\" column of the CSV file. \n",
    "* \"latitude\" - This value appears in the \"Latitude\" column of the source file.\n",
    "* \"longitude\" - This value appears in the \"Longitude\" column of the source file.\n",
    "* \"postcode\" - This value appears in the \"Postcode\" column of the source file. \n",
    "* \"zone\" - This value appears in the \"Zone\" column of the source file. \n",
    "* Return each row as a JSON document enclosed by 3 backticks. No other text in the response\n",
    "\n",
    "Text:\n",
    "$ctext\n",
    "\"\"\""
   ]
  },
  {
   "cell_type": "code",
   "execution_count": 283,
   "id": "bc287b8b-d74d-456d-ab51-f6e3015effb4",
   "metadata": {
    "tags": []
   },
   "outputs": [],
   "source": [
    "tube_line_info_tpl = \"\"\"The input file below is a CSV file. The first line represents the column names. Extract the following entities from every row and put them into JSON format. Do not miss any of this information.\n",
    "* \"tube_line\" - This name appears in the \"Tube_Line\" column of the CSV file. \n",
    "* \"from_station\" - This value appears in the \"From_Station\" column of the source file.\n",
    "* \"to_station\" - This value appears in the \"To_Station\" column of the source file.\n",
    "* Return each row as a JSON document enclosed by 3 backticks. No other text in the response\n",
    "\n",
    "Text:\n",
    "$ctext\n",
    "\"\"\""
   ]
  },
  {
   "cell_type": "code",
   "execution_count": 242,
   "id": "57cc2dfa-4947-4afc-8b2a-6cd16338029a",
   "metadata": {
    "tags": []
   },
   "outputs": [],
   "source": [
    "from google.cloud import storage\n",
    "\n",
    "storage_client = storage.Client()\n",
    "bucket = storage_client.bucket('neo4j-datasets')\n",
    "blob = bucket.blob('dataflow-london-transport/bigquery-to-neo4j/source-data/London_stations.csv')\n",
    "\n",
    "inp_text = blob.download_as_string().decode()"
   ]
  },
  {
   "cell_type": "code",
   "execution_count": 243,
   "id": "78a5cb9e-542a-41fb-94cf-06680b842c44",
   "metadata": {
    "tags": []
   },
   "outputs": [],
   "source": [
    "# This function will split the CSV file into smaller chunks in order to stay under the LLM rate limit\n",
    "def split_csv_file(inp_text, chunk_size=10):\n",
    "    csv_chunks = []\n",
    "    split_text = inp_text.split('\\r\\n')\n",
    "    header_row = split_text[0]\n",
    "    \n",
    "    chunk = ''\n",
    "    row_count = 0\n",
    "    for row in split_text:\n",
    "        if row_count == 0:\n",
    "            chunk = header_row + '\\r\\n'\n",
    "            row_count += 1\n",
    "        if row != header_row:\n",
    "            chunk += row + '\\r\\n'\n",
    "            row_count += 1\n",
    "        if row_count >= chunk_size+1:\n",
    "            csv_chunks.append(chunk)\n",
    "            row_count = 0\n",
    "    csv_chunks.append(chunk)\n",
    "    \n",
    "    return csv_chunks\n",
    "    "
   ]
  },
  {
   "cell_type": "code",
   "execution_count": 244,
   "id": "b9852511-e6e8-4a5d-87cf-3f7b52287c2c",
   "metadata": {
    "tags": []
   },
   "outputs": [
    {
     "name": "stdout",
     "output_type": "stream",
     "text": [
      "ID,Station_Name,OS X,OS Y,Latitude,Longitude,Zone,Postcode,Zone_original\n",
      "11,Alexandra Palace,530300,190498,51.59826262860600,-0.120148971,3,N22 7ST,3\n",
      "12,All Saints,538012,180933,51.51047690641240,-0.012624885,2,E14 0EH,2\n",
      "13,Alperton,518025,183849,51.54120878643840,-0.299515753,4,HA0 4LL,4\n",
      "14,Amersham,496454,198181,51.674128328342700,-0.606513768,9,HP6 5AZ,9\n",
      "15,Ampere Way,530674,166476,51.38229921988810,-0.123636798,3,CR0 3JX,\"3,4,5,6\"\n",
      "16,Anerley,534656,169942,51.41251661375110,-0.0651371,4,SE20 8PY,4\n",
      "17,Angel,531497,183263,51.53296784539840,-0.105581448,1,N1 8XB,1\n",
      "18,Angel Road,535204,192202,51.612420242475800,-0.048732919,4,N18 3AY,4\n",
      "19,Archway,529356,186827,51.56549031545970,-0.135121576,2,N19 5RQ,\"2,3\"\n",
      "20,Arena,535192,167620,51.391522658988500,-0.05831855,3,SE25 4RY,\"3,4,5,6\"\n",
      "\n"
     ]
    }
   ],
   "source": [
    "csv_chunks = split_csv_file(inp_text)\n",
    "print(csv_chunks[1])"
   ]
  },
  {
   "cell_type": "code",
   "execution_count": 245,
   "id": "2e42db05-86be-4171-9ef3-538af376057e",
   "metadata": {
    "tags": []
   },
   "outputs": [],
   "source": [
    "from vertexai.language_models import TextGenerationModel\n",
    "\n",
    "# Wrapper for calling language model\n",
    "def run_text_model(\n",
    "    model_name: str,\n",
    "    temperature: float,\n",
    "    max_decode_steps: int,\n",
    "    top_p: float,\n",
    "    top_k: int,\n",
    "    prompt: str,\n",
    "    tuned_model_name: str = None,\n",
    "    ) :\n",
    "    \"\"\"Text Completion Use a Large Language Model.\"\"\"\n",
    "    if tuned_model_name is None:\n",
    "        model = TextGenerationModel.from_pretrained(model_name)\n",
    "    else:\n",
    "        model = model.get_tuned_model(tuned_model_name)\n",
    "    response = model.predict(\n",
    "        prompt,\n",
    "        temperature=temperature,\n",
    "        max_output_tokens=max_decode_steps,\n",
    "        top_k=top_k,\n",
    "        top_p=top_p,)\n",
    "    return response.text"
   ]
  },
  {
   "cell_type": "code",
   "execution_count": 264,
   "id": "79ca2aab-87a9-4628-9f17-6a8fd7d08153",
   "metadata": {
    "tags": []
   },
   "outputs": [],
   "source": [
    "# Wrapper for entity extraction and parsing\n",
    "def extract_entities_relationships(prompt, tuned_model_name=None):\n",
    "    print('prompt:', prompt)\n",
    "    try:\n",
    "        res = run_text_model(\"text-bison@001\", 0, 1024, 0.8, 1, prompt, tuned_model_name)\n",
    "        return res\n",
    "    except Exception as e:\n",
    "        print(e)"
   ]
  },
  {
   "cell_type": "code",
   "execution_count": 247,
   "id": "726ef3e9-e66f-45ed-be59-d386ce1db4a2",
   "metadata": {
    "tags": []
   },
   "outputs": [],
   "source": [
    "import re\n",
    "import numpy as np\n",
    "\n",
    "# splitting function for chunking up filing information to avoid hitting LLM token limits\n",
    "def split_file(s, chunk_size=5):\n",
    "#    pattern = '(</(\\w+:)?infoTable>)'\n",
    "    pattern = '\\r\\n'\n",
    "    splitter = re.findall(pattern, s)[0][0]\n",
    "    _parts = s.split(splitter)\n",
    "    if len(_parts) > chunk_size:\n",
    "        chunks_of_list = np.array_split(_parts, len(_parts)/chunk_size) # max 5 filings per part\n",
    "        chunks_of_str = map(lambda x: splitter.join(x)+splitter, chunks_of_list)\n",
    "        l = list(chunks_of_str)\n",
    "        if len(l) > 0:\n",
    "            l[len(l)-1] = re.sub(f'{splitter}$', '', l[len(l)-1])\n",
    "        return l\n",
    "    else:\n",
    "        return [s]"
   ]
  },
  {
   "cell_type": "markdown",
   "id": "8bb9dee8-c5dc-42ad-b05d-0f0d7e11d551",
   "metadata": {},
   "source": [
    "## Test Example for Parsing\n",
    "Let's start with one Form 13 file to see how we can parse it with Generative AI."
   ]
  },
  {
   "cell_type": "markdown",
   "id": "2d82c1ec-d49d-4444-b4fe-bc0be2777308",
   "metadata": {},
   "source": [
    "We can take a look at the file.  Note that it is an oddball mix of XML, delimeted and fixed spacing formatting that no standard parser could make sense of."
   ]
  },
  {
   "cell_type": "markdown",
   "id": "9b41717f-0c6e-4642-b6fd-ca327ce474cf",
   "metadata": {},
   "source": [
    "We can split data into manager and filing info pieces using `<XML>` tags"
   ]
  },
  {
   "cell_type": "markdown",
   "id": "21286ffa-2ff2-40cd-8eee-8b4626f32c1f",
   "metadata": {},
   "source": [
    "## Parsing Manager Information"
   ]
  },
  {
   "cell_type": "code",
   "execution_count": 248,
   "id": "522d7f7b-5b24-4d05-b0b6-a3d8a85dcad2",
   "metadata": {
    "tags": []
   },
   "outputs": [],
   "source": [
    "import vertexai\n",
    "\n",
    "vertexai.init()"
   ]
  },
  {
   "cell_type": "code",
   "execution_count": 266,
   "id": "ed35d7c5-ef70-419b-b9c3-69c34003a75e",
   "metadata": {
    "tags": []
   },
   "outputs": [
    {
     "name": "stdout",
     "output_type": "stream",
     "text": [
      "The input file below is a CSV file. The first line represents the column names. Extract the following entities from every row and put them into JSON format. Do not miss any of this information.\n",
      "* \"station_name\" - This name appears in the \"Station_Name\" column of the CSV file. \n",
      "* \"latitude\" - This value appears in the \"Latitude\" column of the source file.\n",
      "* \"longitude\" - This value appears in the \"Longitude\" column of the source file.\n",
      "* \"postcode\" - This value appears in the \"Postcode\" column of the source file. \n",
      "* \"zone\" - This value appears in the \"Zone\" column of the source file. \n",
      "* For each row in the CSV return only JSON enclosed by 3 backticks. No other text in the response\n",
      "\n",
      "Text:\n",
      "ID,Station_Name,OS X,OS Y,Latitude,Longitude,Zone,Postcode,Zone_original\n",
      "21,Arnos Grove,529271,192471,51.616229924551400,-0.134270218,4,N11 1AN,4\n",
      "22,Arsenal,531429,186107,51.55854120559970,-0.105499933,2,N5 1LP,2\n",
      "23,Avenue Road,535764,169335,51.406797904315400,-0.049446937,3,BR3 4NJ,\"3,4,5,6\"\n",
      "24,Baker Street,527965,182078,51.52312936605880,-0.156904193,1,NW1 5LA,1\n",
      "25,Balham,528482,173195,51.443182314397000,-0.152685162,3,SW12 9SG,3\n",
      "26,Bank,532704,181111,51.51334691914180,-0.089000123,1,EC3V 3LA,1\n",
      "27,Banstead,524590,160426,51.32929277590570,-0.213132334,6,SM7 1RB,6\n",
      "28,Barbican,532079,181859,51.520215126107800,-0.097721578,1,EC1A 4JA,1\n",
      "29,Barking,544405,184343,51.53952124839740,0.08083161,4,IG11 8TU,4\n",
      "30,Barkingside,544788,189510,51.58585076146280,0.08847664,4,IG6 1NB,4\n",
      "\n",
      "\n"
     ]
    }
   ],
   "source": [
    "from string import Template\n",
    "\n",
    "prompt_stations = Template(station_info_tpl).substitute(ctext=csv_chunks[2])\n",
    "print(prompt_stations)"
   ]
  },
  {
   "cell_type": "code",
   "execution_count": 267,
   "id": "6b13100f-de4b-49f9-89f6-58e01c19727e",
   "metadata": {
    "tags": []
   },
   "outputs": [
    {
     "name": "stdout",
     "output_type": "stream",
     "text": [
      "prompt: The input file below is a CSV file. The first line represents the column names. Extract the following entities from every row and put them into JSON format. Do not miss any of this information.\n",
      "* \"station_name\" - This name appears in the \"Station_Name\" column of the CSV file. \n",
      "* \"latitude\" - This value appears in the \"Latitude\" column of the source file.\n",
      "* \"longitude\" - This value appears in the \"Longitude\" column of the source file.\n",
      "* \"postcode\" - This value appears in the \"Postcode\" column of the source file. \n",
      "* \"zone\" - This value appears in the \"Zone\" column of the source file. \n",
      "* For each row in the CSV return only JSON enclosed by 3 backticks. No other text in the response\n",
      "\n",
      "Text:\n",
      "ID,Station_Name,OS X,OS Y,Latitude,Longitude,Zone,Postcode,Zone_original\n",
      "21,Arnos Grove,529271,192471,51.616229924551400,-0.134270218,4,N11 1AN,4\n",
      "22,Arsenal,531429,186107,51.55854120559970,-0.105499933,2,N5 1LP,2\n",
      "23,Avenue Road,535764,169335,51.406797904315400,-0.049446937,3,BR3 4NJ,\"3,4,5,6\"\n",
      "24,Baker Street,527965,182078,51.52312936605880,-0.156904193,1,NW1 5LA,1\n",
      "25,Balham,528482,173195,51.443182314397000,-0.152685162,3,SW12 9SG,3\n",
      "26,Bank,532704,181111,51.51334691914180,-0.089000123,1,EC3V 3LA,1\n",
      "27,Banstead,524590,160426,51.32929277590570,-0.213132334,6,SM7 1RB,6\n",
      "28,Barbican,532079,181859,51.520215126107800,-0.097721578,1,EC1A 4JA,1\n",
      "29,Barking,544405,184343,51.53952124839740,0.08083161,4,IG11 8TU,4\n",
      "30,Barkingside,544788,189510,51.58585076146280,0.08847664,4,IG6 1NB,4\n",
      "\n",
      "\n"
     ]
    },
    {
     "data": {
      "text/plain": [
       "{'station_name': 'Arnos Grove',\n",
       " 'latitude': '51.616229924551400',\n",
       " 'longitude': '-0.134270218',\n",
       " 'postcode': 'N11 1AN',\n",
       " 'zone': '4'}"
      ]
     },
     "execution_count": 267,
     "metadata": {},
     "output_type": "execute_result"
    }
   ],
   "source": [
    "import json\n",
    "\n",
    "# Use LLM to parse out manager information\n",
    "station_data1 = json.loads(extract_entities_relationships(prompt_stations).split('```')[1].strip('json'))\n",
    "station_data1\n"
   ]
  },
  {
   "cell_type": "markdown",
   "id": "775186c0-d2bc-4711-88c4-0e61488ad2bd",
   "metadata": {},
   "source": [
    "## Parse Filing Information\n",
    "We will parse filing info in a similar manner to manager information. Because the filings include a list of many entries however, we will want to split the input into chunks so as not to exceed input or output token limits. "
   ]
  },
  {
   "cell_type": "code",
   "execution_count": 284,
   "id": "9aa1690a-012b-4056-8fcc-6e04e4bb26f4",
   "metadata": {
    "tags": []
   },
   "outputs": [],
   "source": [
    "from google.cloud import storage\n",
    "\n",
    "storage_client = storage.Client()\n",
    "bucket = storage_client.bucket('neo4j-datasets')\n",
    "blob = bucket.blob('dataflow-london-transport/bigquery-to-neo4j/source-data/London_tube_lines.csv')\n",
    "\n",
    "inp_text = blob.download_as_string().decode()"
   ]
  },
  {
   "cell_type": "code",
   "execution_count": 288,
   "id": "125ed4c0-22b9-4fc8-83f0-a1ccc5eaa112",
   "metadata": {
    "tags": []
   },
   "outputs": [
    {
     "name": "stdout",
     "output_type": "stream",
     "text": [
      "prompt: The input file below is a CSV file. The first line represents the column names. Extract the following entities from every row and put them into JSON format. Do not miss any of this information.\n",
      "* \"tube_line\" - This name appears in the \"Tube_Line\" column of the CSV file. \n",
      "* \"from_station\" - This value appears in the \"From_Station\" column of the source file.\n",
      "* \"to_station\" - This value appears in the \"To_Station\" column of the source file.\n",
      "* Return each row as a JSON document enclosed by 3 backticks. No other text in the response\n",
      "\n",
      "Text:\n",
      "Tube_Line,From_Station,To_Station\n",
      "Bakerloo,Baker Street,Regents Park\n",
      "Bakerloo,Charing Cross,Embankment\n",
      "Bakerloo,Edgware Road,Marylebone\n",
      "Bakerloo,Embankment,Waterloo\n",
      "Bakerloo,Harlesden,Willesden Junction\n",
      "Bakerloo,Harrow and Wealdstone,Kenton\n",
      "Bakerloo,Kensal Green,Queens Park\n",
      "Bakerloo,Kenton,South Kenton\n",
      "Bakerloo,Kilburn Park,Maida Vale\n",
      "Bakerloo,Lambeth North,Elephant and Castle\n",
      "Bakerloo,Maida Vale,Warwick Avenue\n",
      "Bakerloo,Marylebone,Baker Street\n",
      "Bakerloo,North Wembley,Wembley Central\n",
      "Bakerloo,Oxford Circus,Piccadilly Circus\n",
      "Bakerloo,Paddington,Edgware Road\n",
      "Bakerloo,Piccadilly Circus,Charing Cross\n",
      "Bakerloo,Queens Park,Kilburn Park\n",
      "Bakerloo,Regents Park,Oxford Circus\n",
      "Bakerloo,South Kenton,North Wembley\n",
      "Bakerloo,Stonebridge Park,Harlesden\n",
      "Bakerloo,Warwick Avenue,Paddington\n",
      "Bakerloo,Waterloo,Lambeth North\n",
      "Bakerloo,Wembley Central,Stonebridge Park\n",
      "Bakerloo,Willesden Junction,Kensal Green\n",
      "C2C,Barking,Dagenham Dock\n",
      "C2C,Barking,Upminster\n",
      "C2C,Dagenham Dock,Purfleet\n",
      "C2C,Dagenham Dock,Rainham\n",
      "C2C,Fenchurch Street,Limehouse\n",
      "C2C,Fenchurch Street,Stratford\n",
      "C2C,Limehouse,West Ham\n",
      "C2C,Liverpool Street,Stratford\n",
      "C2C,Ockendon,Chafford Hundred\n",
      "C2C,Stratford,Barking\n",
      "C2C,Upminster,Ockendon\n",
      "C2C,West Ham,Barking\n",
      "Central,Bank,St. Pauls\n",
      "Central,Barkingside,Fairlop\n",
      "Central,Bethnal Green,Liverpool Street\n",
      "Central,Bond Street,Marble Arch\n",
      "Central,Buckhurst Hill,Woodford\n",
      "Central,Chancery Lane,Holborn\n",
      "Central,Chigwell,Roding Valley\n",
      "Central,Debden,Loughton\n",
      "Central,East Acton,North Acton\n",
      "Central,Epping,Theydon \n",
      "\n",
      "Central,Fairlop,Barkingside\n",
      "Central,Farringdon,Chancery Lane\n",
      "Central,Gloucester Road,Notting Hill Gate\n",
      "Central,Holborn,Chancery Lane\n",
      "Central,Loughton,Debden\n",
      "Central,Marble Arch,Bond Street\n",
      "Central,Notting Hill Gate,Gloucester Road\n",
      "Central,North Acton,East Acton\n",
      "Central,Northolt,South Ruislip\n",
      "Central,Oxford Circus,Bond Street\n",
      "Central,Paddington,Edgware Road\n",
      "Central,Piccadilly Circus,Oxford Circus\n",
      "Central,Pimlico,Victoria\n",
      "Central,Ruislip Gardens,Northolt\n",
      "Central,St. Pauls,Bank\n",
      "Central,Shepherds Bush,White City\n",
      "Central,South Ealing,Ealing Broadway\n",
      "Central,South Ruislip,Ruislip Gardens\n",
      "Central,Theydon,Epping\n",
      "Central,White City,Shepherds Bush\n",
      "Central,Woodford,Buckhurst Hill\n"
     ]
    }
   ],
   "source": [
    "prompt = Template(tube_line_info_tpl).substitute(ctext=inp_text[:1500])\n",
    "response = extract_entities_relationships(prompt)\n",
    "print(response)"
   ]
  },
  {
   "cell_type": "markdown",
   "id": "62a2560b-2e6c-4b96-abc3-7c96196d0eb5",
   "metadata": {},
   "source": [
    "## Test Example\n",
    "\n",
    "Let's walk through the steps to do this with just the 1 form above first, then we can move on to parsing and ingesting multiple form13s"
   ]
  },
  {
   "cell_type": "markdown",
   "id": "1c0a67de-b18f-4c65-a529-b890086663b8",
   "metadata": {},
   "source": [
    "To start we can run the LLM parsing over all the filing info from the form and then combine the resulting JSON into a list conducive for Neo4j loading."
   ]
  },
  {
   "cell_type": "code",
   "execution_count": null,
   "id": "827621eb-2f7d-4ef4-9f00-cddbc5e2cfd2",
   "metadata": {
    "tags": []
   },
   "outputs": [],
   "source": [
    "filings_list = []\n",
    "import time\n",
    "for filing_info_chunk in filing_info_chunks:\n",
    "    prompt = Template(filing_info_tpl).substitute(ctext=filing_info_chunk)\n",
    "    response = extract_entities_relationships(prompt)\n",
    "    # time.sleep(2) #uncomment this line if you face any rate limit error\n",
    "    if '```' in response:\n",
    "        response = response.split('```')[1].strip('json')\n",
    "    filings_list.extend(json.loads(response))\n",
    "\n",
    "for item in filings_list:\n",
    "    item['managerName'] = manager_data['managerName']\n",
    "    item['reportCalendarOrQuarter'] = manager_data['reportCalendarOrQuarter']\n",
    "filings_list[:5]"
   ]
  },
  {
   "cell_type": "code",
   "execution_count": null,
   "id": "09f6b661-7d08-42fa-9dda-6ea9e8dfcffc",
   "metadata": {
    "tags": []
   },
   "outputs": [],
   "source": [
    "len(filings_list)"
   ]
  },
  {
   "cell_type": "markdown",
   "id": "c6b83ca6-c44b-4f43-9dcd-c88cf525a978",
   "metadata": {},
   "source": [
    "## Establish Neo4j Connection"
   ]
  },
  {
   "cell_type": "code",
   "execution_count": null,
   "id": "93fffd14-e6bb-4843-90e9-d1d4e7cef3cc",
   "metadata": {
    "tags": []
   },
   "outputs": [],
   "source": [
    "# username is neo4j by default\n",
    "NEO4J_USERNAME = 'neo4j'\n",
    "\n",
    "# You will need to change these to match your credentials\n",
    "NEO4J_URI = 'neo4j+s://f037e189.databases.neo4j.io'\n",
    "NEO4J_PASSWORD = 'Ka9u8KfClrPlLj79a27-E2caAi14VO_BwM4b2W1fvos'"
   ]
  },
  {
   "cell_type": "code",
   "execution_count": null,
   "id": "f38e2ef1-f5bd-4561-87e7-a014b8af2e62",
   "metadata": {
    "tags": []
   },
   "outputs": [],
   "source": [
    "from graphdatascience import GraphDataScience\n",
    "\n",
    "gds = GraphDataScience(\n",
    "    NEO4J_URI,\n",
    "    auth=(NEO4J_USERNAME, NEO4J_PASSWORD),\n",
    "    aura_ds=True\n",
    ")\n",
    "gds.set_database('neo4j')"
   ]
  },
  {
   "cell_type": "markdown",
   "id": "97f6adf6-a299-47ca-a965-6b6cdec67f77",
   "metadata": {},
   "source": [
    "Before loading, we should create node key constraints for nodes.  This acts as a unique id and an index and is necessary for fast, efficient queries.  In general, if you notice ingestion is super slow (and getting slower) with Neo4j, double-check that you created indexes.  For this small sample, it won't matter, but it will undoubtedly impact as we ingest more data. "
   ]
  },
  {
   "cell_type": "code",
   "execution_count": null,
   "id": "d3084e75-da30-42c1-8ca4-10cf55e7c3d2",
   "metadata": {
    "tags": []
   },
   "outputs": [],
   "source": [
    "gds.run_cypher('CREATE CONSTRAINT unique_manager IF NOT EXISTS FOR (n:Manager) REQUIRE (n.managerName) IS NODE KEY')\n",
    "gds.run_cypher('CREATE CONSTRAINT unique_company_id IF NOT EXISTS FOR (n:Company) REQUIRE (n.cusip) IS NODE KEY')"
   ]
  },
  {
   "cell_type": "markdown",
   "id": "814834e0-54f6-4e6f-9a6e-67a526cf3bf6",
   "metadata": {},
   "source": [
    "To merge the data, we can use parameterized Cypher queries.  Basically, we will send filings in batches (in this sample case, just one batch) for each node and relationship type and insert them as parameters in the query."
   ]
  },
  {
   "cell_type": "code",
   "execution_count": null,
   "id": "feb25f22-39a0-4930-bf05-8adaa45c2f75",
   "metadata": {
    "tags": []
   },
   "outputs": [],
   "source": [
    "# Merge company nodes\n",
    "gds.run_cypher('''\n",
    "UNWIND $records AS record\n",
    "MERGE (c:Company {cusip: record.cusip})\n",
    "SET c.companyName = record.companyName\n",
    "RETURN count(c) AS company_node_merge_count\n",
    "''', params={'records':filings_list})"
   ]
  },
  {
   "cell_type": "code",
   "execution_count": null,
   "id": "635b9393-a2b6-4da6-94a4-cca6bcf515bd",
   "metadata": {
    "tags": []
   },
   "outputs": [],
   "source": [
    "# Merge manager node\n",
    "gds.run_cypher('''\n",
    "MERGE (m:Manager {managerName: $name})\n",
    "RETURN count(m) AS manager_node_merge_count\n",
    "''', params={'name':manager_data['managerName']})"
   ]
  },
  {
   "cell_type": "code",
   "execution_count": null,
   "id": "5394e270-45c3-44c9-96bb-6ea210dbb28a",
   "metadata": {
    "tags": []
   },
   "outputs": [],
   "source": [
    "# Merge owns Relationship\n",
    "gds.run_cypher('''\n",
    "UNWIND $records AS record\n",
    "MATCH (m:Manager {managerName: record.managerName})\n",
    "MATCH (c:Company {cusip: record.cusip})\n",
    "MERGE(m)-[r:OWNS]->(c)\n",
    "SET r.reportCalendarOrQuarter = record.reportCalendarOrQuarter,\n",
    "    r.value = record.value,\n",
    "    r.shares = record.shares\n",
    "RETURN count(r) AS owns_relationship_merge_count\n",
    "''', params={'records':filings_list})"
   ]
  },
  {
   "cell_type": "markdown",
   "id": "9a7ebde6-7e39-40fc-8457-4d39bb45efd1",
   "metadata": {},
   "source": [
    "## Ingest Multiple Form 13 Files\n",
    "We will make a pipeline using the methods above.  In this case we will take a two-step approach, first parse all the data, then chunk that data and ingest into Neo4j."
   ]
  },
  {
   "cell_type": "markdown",
   "id": "70a0900b-0312-4213-9a3d-13e512226f93",
   "metadata": {},
   "source": [
    "For purposes of this lab we will just use a few form13 files."
   ]
  },
  {
   "cell_type": "code",
   "execution_count": null,
   "id": "29c1d593-dd40-4f08-ac0d-9c8e9ff201d1",
   "metadata": {
    "tags": []
   },
   "outputs": [],
   "source": [
    "### If you have time to parse more files, you can uncomment these lines.\n",
    "sample_file_names = [\n",
    "   'hands-on-lab/form13-raw/raw_2022-01-03_archives_edgar_data_1844571_0001844571-22-000001.txt',\n",
    "   'hands-on-lab/form13-raw/raw_2022-01-03_archives_edgar_data_1875995_0001875995-22-000004.txt',\n",
    "   'hands-on-lab/form13-raw/raw_2022-01-06_archives_edgar_data_1495703_0001495703-22-000002.txt'\n",
    "]"
   ]
  },
  {
   "cell_type": "code",
   "execution_count": null,
   "id": "568c27a4-d6bf-4e12-af6e-478e20fe5ad3",
   "metadata": {
    "tags": []
   },
   "outputs": [],
   "source": [
    "# Helper function for getting filing info\n",
    "def get_manager_and_filing_info(raw_txt):\n",
    "    contents = raw_txt.split('<XML>')\n",
    "    manager_info = contents[1].split('</XML>')[0].strip()\n",
    "    filing_info = contents[2].split('</XML>')[0].strip()\n",
    "    \n",
    "    return manager_info, filing_info"
   ]
  },
  {
   "cell_type": "code",
   "execution_count": null,
   "id": "0d46cc84-53b5-4088-a5aa-578f7eb5d0e4",
   "metadata": {
    "tags": []
   },
   "outputs": [],
   "source": [
    "%%time\n",
    "\n",
    "print(f'=== Parsing {len(sample_file_names)} Form 13 Files ===')\n",
    "\n",
    "filings_list = []\n",
    "manager_list = []\n",
    "\n",
    "for file_name in sample_file_names:\n",
    "    \n",
    "    print(f'--- parsing {file_name} ---')\n",
    "    try:\n",
    "        # Get raw form13 file\n",
    "        print('getting file text from gcloud....')\n",
    "        blob = bucket.blob(file_name)\n",
    "        raw_text = blob.download_as_string().decode()\n",
    "\n",
    "        # Get raw manager and filing info from file\n",
    "        print('getting file contents...')\n",
    "        manager_info, filing_info = get_manager_and_filing_info(raw_text)\n",
    "\n",
    "        # Parse manager info into dict using LLM\n",
    "        print('Parsing submission and manager info...')\n",
    "        mng_prompt = Template(mgr_info_tpl).substitute(ctext=manager_info)\n",
    "        mng_response = extract_entities_relationships(mng_prompt)\n",
    "        manager_data = json.loads(mng_response.replace('```', ''))\n",
    "        manager_list.append({'managerName': manager_data['managerName']})\n",
    "\n",
    "        # Parse filing info into list of dicts using LLM\n",
    "        print('Parsing filing info...')\n",
    "        tmp_filing_list = []\n",
    "        for filing_info_chunk in split_filing_info(filing_info):\n",
    "            filing_prompt = Template(filing_info_tpl).substitute(ctext=filing_info_chunk)\n",
    "            filing_response = extract_entities_relationships(filing_prompt)\n",
    "            #time.sleep(3) #uncomment this line if you face any rate limit error\n",
    "            if '```' in filing_response:\n",
    "                filing_response = filing_response.split('```')[1].strip('json')\n",
    "            tmp_filing_list.extend(json.loads(filing_response))\n",
    "        for item in tmp_filing_list: #Add information from manager_info to enable OWNS relationship loading\n",
    "            item['managerName'] = manager_data['managerName']\n",
    "            item['reportCalendarOrQuarter'] = manager_data['reportCalendarOrQuarter']\n",
    "        filings_list.extend(tmp_filing_list)\n",
    "    except Exception as e:\n",
    "        print(filing_response)\n",
    "        raise e\n"
   ]
  },
  {
   "cell_type": "markdown",
   "id": "7b656917-8b98-4b94-a905-fcd4a4a5f8bd",
   "metadata": {},
   "source": [
    "Now we can merge the mananger nodes"
   ]
  },
  {
   "cell_type": "code",
   "execution_count": null,
   "id": "df9206bb-d619-4649-99cf-f5939461555a",
   "metadata": {
    "tags": []
   },
   "outputs": [],
   "source": [
    "# Merge manager nodes\n",
    "gds.run_cypher('''\n",
    "UNWIND $records AS record\n",
    "MERGE (m:Manager {managerName: record.managerName})\n",
    "RETURN count(m) AS manager_node_merge_count\n",
    "''', params={'records':manager_list})"
   ]
  },
  {
   "cell_type": "markdown",
   "id": "064c27c4-4e48-4a08-8aba-26a3874e7f3e",
   "metadata": {},
   "source": [
    "For filings lets check ther length of the list"
   ]
  },
  {
   "cell_type": "code",
   "execution_count": null,
   "id": "6c31f300-1c53-4795-ae1c-7228f240ddf9",
   "metadata": {
    "tags": []
   },
   "outputs": [],
   "source": [
    "len(filings_list)"
   ]
  },
  {
   "cell_type": "markdown",
   "id": "197ede58-e686-42c8-90f7-fd8919a17f36",
   "metadata": {},
   "source": [
    "While we should not need chunking for this example, below is an example of how to chunk up a parameterized function for loading in case you need to scale up. "
   ]
  },
  {
   "cell_type": "code",
   "execution_count": null,
   "id": "ceb716e1-c71c-4992-b654-016f9496f08b",
   "metadata": {
    "tags": []
   },
   "outputs": [],
   "source": [
    "# As the dataset gets bigger we will want to chunk up the filings we send to Neo4j\n",
    "def chunks(xs, n=10_000):\n",
    "    n = max(1, n)\n",
    "    return [xs[i:i + n] for i in range(0, len(xs), n)]"
   ]
  },
  {
   "cell_type": "code",
   "execution_count": null,
   "id": "e2216015-d8ca-475d-8240-a5717081c8d3",
   "metadata": {
    "tags": []
   },
   "outputs": [],
   "source": [
    "# Merge company nodes\n",
    "for d in chunks(filings_list):\n",
    "    res = gds.run_cypher('''\n",
    "    UNWIND $records AS record\n",
    "    MERGE (c:Company {cusip: record.cusip})\n",
    "    SET c.companyName = record.companyName\n",
    "    RETURN count(c) AS company_node_merge_count\n",
    "    ''', params={'records':d})\n",
    "    print(res)"
   ]
  },
  {
   "cell_type": "code",
   "execution_count": null,
   "id": "750215eb-ec16-4b42-909f-cf763b9955b5",
   "metadata": {
    "tags": []
   },
   "outputs": [],
   "source": [
    "# Merge owns Relationships\n",
    "for d in chunks(filings_list):\n",
    "    res = gds.run_cypher('''\n",
    "    UNWIND $records AS record\n",
    "    MATCH (m:Manager {managerName: record.managerName})\n",
    "    MATCH (c:Company {cusip: record.cusip})\n",
    "    MERGE(m)-[r:OWNS]->(c)\n",
    "    SET r.reportCalendarOrQuarter = record.reportCalendarOrQuarter,\n",
    "        r.value = record.value,\n",
    "        r.shares = record.shares\n",
    "    RETURN count(r) AS owns_relationship_merge_count\n",
    "    ''', params={'records':d})\n",
    "    print(res)"
   ]
  },
  {
   "cell_type": "markdown",
   "id": "f88924cd-b43a-42ca-b975-87f1362987fc",
   "metadata": {},
   "source": [
    "This type of workflow can be applied to other unstructured data to parse entities and relationships with language models and load them into a Neo4j knowledge graph. "
   ]
  }
 ],
 "metadata": {
  "environment": {
   "kernel": "python3",
   "name": "tf2-cpu.2-11.m121",
   "type": "gcloud",
   "uri": "us-docker.pkg.dev/deeplearning-platform-release/gcr.io/tf2-cpu.2-11:m121"
  },
  "kernelspec": {
   "display_name": "Python 3 (Local)",
   "language": "python",
   "name": "python3"
  },
  "language_info": {
   "codemirror_mode": {
    "name": "ipython",
    "version": 3
   },
   "file_extension": ".py",
   "mimetype": "text/x-python",
   "name": "python",
   "nbconvert_exporter": "python",
   "pygments_lexer": "ipython3",
   "version": "3.10.14"
  }
 },
 "nbformat": 4,
 "nbformat_minor": 5
}
